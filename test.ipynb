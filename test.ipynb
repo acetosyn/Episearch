{
 "cells": [
  {
   "cell_type": "markdown",
   "metadata": {},
   "source": [
    "## 📌 CSV to JSON Converter for Test Prices\n",
    "This notebook reads a CSV file containing test categories and prices, and converts it into a structured JSON file."
   ]
  },
  {
   "cell_type": "code",
   "execution_count": null,
   "metadata": {},
   "outputs": [],
   "source": [
    "import csv\n",
    "import json\n",
    "import re"
   ]
  },
  {
   "cell_type": "markdown",
   "metadata": {},
   "source": [
    "### Step 1: Define Helper Function\n",
    "Function to detect if a row is a **category header**."
   ]
  },
  {
   "cell_type": "code",
   "execution_count": null,
   "metadata": {},
   "outputs": [],
   "source": [
    "def is_category(text):\n",
    "    \"\"\"Checks if the row represents a category.\"\"\"\n",
    "    # Detect if text is all caps and not empty\n",
    "    return bool(text) and text.strip() == text.strip().upper() and not text.strip().isdigit()"
   ]
  },
  {
   "cell_type": "markdown",
   "metadata": {},
   "source": [
    "### Step 2: Main Function to Convert CSV → JSON"
   ]
  },
  {
   "cell_type": "code",
   "execution_count": null,
   "metadata": {},
   "outputs": [],
   "source": [
    "def csv_to_json(csv_file, json_file):\n",
    "    data = []\n",
    "    current_category = None\n",
    "\n",
    "    with open(csv_file, newline='', encoding='utf-8-sig') as f:\n",
    "        reader = csv.DictReader(f)\n",
    "        \n",
    "        for row in reader:\n",
    "            test_name = row['TEST'].strip()\n",
    "            price_raw = row['New Walk In (Prices in Naira)'].strip()\n",
    "\n",
    "            if is_category(test_name) and not price_raw:\n",
    "                # It's a category row\n",
    "                current_category = test_name.title()\n",
    "            elif test_name and price_raw:\n",
    "                # It's a test under the current category\n",
    "                try:\n",
    "                    price = int(re.sub(r'[^\\d]', '', price_raw))\n",
    "                except ValueError:\n",
    "                    price = None\n",
    "                data.append({\n",
    "                    \"category\": current_category,\n",
    "                    \"test\": test_name.title(),\n",
    "                    \"price\": price\n",
    "                })\n",
    "\n",
    "    with open(json_file, 'w', encoding='utf-8') as f:\n",
    "        json.dump(data, f, ensure_ascii=False, indent=2)\n",
    "\n",
    "    print(f\"✅ Successfully wrote {len(data)} tests to {json_file}\")"
   ]
  },
  {
   "cell_type": "markdown",
   "metadata": {},
   "source": [
    "### Step 3: Run the Conversion\n",
    "Make sure `tests.csv` exists in the same folder as this notebook before running."
   ]
  },
  {
   "cell_type": "code",
   "execution_count": null,
   "metadata": {},
   "outputs": [],
   "source": [
    "csv_to_json(\"tests.csv\", \"tests.json\")"
   ]
  }
 ],
 "metadata": {
  "kernelspec": {
   "display_name": "Python 3",
   "language": "python",
   "name": "python3"
  },
  "language_info": {
   "name": "python",
   "version": "3.x"
  }
 },
 "nbformat": 4,
 "nbformat_minor": 2
}
