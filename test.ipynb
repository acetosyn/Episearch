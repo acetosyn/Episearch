{
 "cells": [
  {
   "cell_type": "markdown",
   "metadata": {},
   "source": [
    "## 📌 CSV to JSON Converter for Test Prices\n",
    "This notebook reads a CSV file containing test categories and prices, and converts it into a structured JSON file."
   ]
  },
  {
   "cell_type": "code",
   "execution_count": 10,
   "metadata": {},
   "outputs": [],
   "source": [
    "import csv\n",
    "import json\n",
    "import re\n",
    "import pandas as pd"
   ]
  },
  {
   "cell_type": "markdown",
   "metadata": {},
   "source": [
    "### Step 1: Define Helper Function\n",
    "Function to detect if a row is a **category header**."
   ]
  },
  {
   "cell_type": "code",
   "execution_count": 11,
   "metadata": {},
   "outputs": [],
   "source": [
    "def is_category(text):\n",
    "    \"\"\"Checks if the row represents a category.\"\"\"\n",
    "    return bool(text) and text.strip() == text.strip().upper() and not text.strip().isdigit()"
   ]
  },
  {
   "cell_type": "markdown",
   "metadata": {},
   "source": [
    "### Step 2: Main Function to Convert CSV → JSON"
   ]
  },
  {
   "cell_type": "code",
   "execution_count": 12,
   "metadata": {},
   "outputs": [],
   "source": [
    "def csv_to_json(csv_file, json_file):\n",
    "    # Load and skip first junk rows until 'TEST' appears\n",
    "    df = pd.read_csv(csv_file, skiprows=4, names=[\"TEST\", \"PRICE\"], usecols=[0, 1])\n",
    "    data = []\n",
    "    current_category = None\n",
    "\n",
    "    for _, row in df.iterrows():\n",
    "        test_name = str(row[\"TEST\"]).strip() if pd.notna(row[\"TEST\"]) else \"\"\n",
    "        price_raw = str(row[\"PRICE\"]).strip() if pd.notna(row[\"PRICE\"]) else \"\"\n",
    "\n",
    "        if is_category(test_name) and not price_raw:\n",
    "            current_category = test_name.title()\n",
    "        elif test_name and price_raw:\n",
    "            try:\n",
    "                price = int(re.sub(r\"[^\\d]\", \"\", price_raw))\n",
    "            except ValueError:\n",
    "                price = None\n",
    "            data.append({\n",
    "                \"category\": current_category,\n",
    "                \"test\": test_name.title(),\n",
    "                \"price\": price\n",
    "            })\n",
    "\n",
    "    with open(json_file, \"w\", encoding=\"utf-8\") as f:\n",
    "        json.dump(data, f, ensure_ascii=False, indent=2)\n",
    "\n",
    "    print(f\"✅ Successfully wrote {len(data)} tests to {json_file}\")\n"
   ]
  },
  {
   "cell_type": "markdown",
   "metadata": {},
   "source": [
    "### Step 3: Run the Conversion\n",
    "Make sure `tests.csv` exists in the same folder as this notebook before running."
   ]
  },
  {
   "cell_type": "code",
   "execution_count": 13,
   "metadata": {},
   "outputs": [
    {
     "name": "stdout",
     "output_type": "stream",
     "text": [
      "✅ Successfully wrote 258 tests to tests.json\n"
     ]
    }
   ],
   "source": [
    "csv_to_json(\"EPICONSULT_PRICELIST_2025.csv\", \"tests.json\")"
   ]
  },
  {
   "cell_type": "code",
   "execution_count": null,
   "metadata": {},
   "outputs": [],
   "source": [
    "import pandas as pd\n",
    "import json\n",
    "import re\n",
    "\n",
    "def is_category_row(row):\n",
    "    \"\"\"Category rows have text in col 0, and the other columns are empty/NaN.\"\"\"\n",
    "    name = str(row[0]) if pd.notna(row[0]) else \"\"\n",
    "    if not name.strip():\n",
    "        return False\n",
    "    others_empty = all(pd.isna(row.get(c)) or str(row.get(c)).strip()==\"\" for c in [1,2,3] if c in row.index)\n",
    "    # Uppercase-ish headings, but not the literal 'TEST'\n",
    "    return others_empty and name.strip().upper() == name.strip() and name.strip() != \"TEST\"\n",
    "\n",
    "def parse_price(cell):\n",
    "    \"\"\"Extract a numeric naira amount from strings like '69,000.00' or '15,000'.\"\"\"\n",
    "    if cell is None or (isinstance(cell, float) and pd.isna(cell)):\n",
    "        return None\n",
    "    s = str(cell).strip()\n",
    "    if not s or s in {\"?\", \"N/A\", \"NA\", \"-\", \"--\"}:\n",
    "        return None\n",
    "    s2 = s.replace(\"₦\", \"\").replace(\",\", \"\")\n",
    "    m = re.search(r\"\\d+(?:\\.\\d+)?\", s2)\n",
    "    if not m:\n",
    "        return None\n",
    "    return int(round(float(m.group(0))))\n",
    "\n",
    "def csv_to_json(csv_file, json_file):\n",
    "    df = pd.read_csv(csv_file, header=None, dtype=str)\n",
    "\n",
    "    # Heuristic: pick the non-name column with the most numeric-looking cells as the price column.\n",
    "    # (In your file this resolves to column index 2.)\n",
    "    candidate_cols = [c for c in df.columns if c != 0]\n",
    "    def numeric_score(series):\n",
    "        s = series.dropna().astype(str)\n",
    "        return (s.str.contains(r\"\\d\").sum()) / max(len(s), 1)\n",
    "    price_col = max(candidate_cols, key=lambda c: numeric_score(df[c])) if candidate_cols else None\n",
    "\n",
    "    data = []\n",
    "    current_category = None\n",
    "\n",
    "    for _, row in df.iterrows():\n",
    "        name = str(row.get(0)) if pd.notna(row.get(0)) else \"\"\n",
    "\n",
    "        if is_category_row(row):\n",
    "            current_category = name.strip().title()\n",
    "            continue\n",
    "\n",
    "        if name.strip().upper() in {\"TEST\", \"\", \"NA\"}:\n",
    "            continue\n",
    "\n",
    "        if name.strip():\n",
    "            price = parse_price(row.get(price_col))\n",
    "            if price is not None or current_category is not None:\n",
    "                data.append({\n",
    "                    \"category\": current_category,\n",
    "                    \"test\": name.strip().title(),   # change to name.strip() if you want to preserve acronyms\n",
    "                    \"price\": price\n",
    "                })\n",
    "\n",
    "    with open(json_file, \"w\", encoding=\"utf-8\") as f:\n",
    "        json.dump(data, f, ensure_ascii=False, indent=2)\n",
    "\n",
    "    print(f\"✅ Successfully wrote {len(data)} tests to {json_file}\")\n",
    "\n",
    "# Run:\n",
    "csv_to_json(\"EPICONSULT_PRICELIST_2025.pdf\", \"tests.json\")\n"
   ]
  },
  {
   "cell_type": "code",
   "execution_count": null,
   "metadata": {},
   "outputs": [],
   "source": []
  }
 ],
 "metadata": {
  "kernelspec": {
   "display_name": "Python 3",
   "language": "python",
   "name": "python3"
  },
  "language_info": {
   "codemirror_mode": {
    "name": "ipython",
    "version": 3
   },
   "file_extension": ".py",
   "mimetype": "text/x-python",
   "name": "python",
   "nbconvert_exporter": "python",
   "pygments_lexer": "ipython3",
   "version": "3.12.6"
  }
 },
 "nbformat": 4,
 "nbformat_minor": 2
}
